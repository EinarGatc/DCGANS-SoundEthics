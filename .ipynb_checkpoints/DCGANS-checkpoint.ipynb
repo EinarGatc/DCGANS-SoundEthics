{
 "cells": [
  {
   "cell_type": "code",
   "execution_count": 5,
   "id": "ac3a47bc-ddba-489d-bb16-bd358b3fa6bc",
   "metadata": {},
   "outputs": [],
   "source": [
    "import torch\n",
    "from torch import nn\n",
    "import torch.optim as optim\n",
    "from torch.utils.data import DataLoader\n",
    "from torchvision import transforms\n",
    "from torchvision.datasets import ImageFolder\n",
    "import torchvision.utils as vutils\n",
    "\n",
    "import matplotlib.pyplot as plt\n",
    "import random\n",
    "import numpy as np\n",
    "import timeit\n",
    "\n",
    "from tqdm import tqdm"
   ]
  },
  {
   "cell_type": "code",
   "execution_count": 8,
   "id": "80b01f42-e7fe-4d4f-84c7-5f41b5af2a57",
   "metadata": {},
   "outputs": [],
   "source": [
    "DATA_DIR = \"\"\n",
    "BATCH_SIZE = 1024\n",
    "CHANNELS = 3\n",
    "INPUT_VECTOR_DIM = 100\n",
    "FEATURE_MAP_DIM = 64\n",
    "LR = 2e-4\n",
    "BETA1 = 0.5\n",
    "EPOCHS = 2\n",
    "RANDOM_SEED = 42\n",
    "\n",
    "random.seed(RANDOM_SEED)\n",
    "np.random.seed(RANDOM_SEED)\n",
    "torch.manual_seed(RANDOM_SEED)\n",
    "torch.cuda.manual_seed(RANDOM_SEED)\n",
    "torch.cuda.manual_seed_all(RANDOM_SEED)\n",
    "torch.backends.cudnn.deterministic = True\n",
    "torch.backends.cudnn.benchmark = False\n",
    "\n",
    "device = \"cuda\" if torch.cuda.is_available() else \"cpu\"\n"
   ]
  },
  {
   "cell_type": "code",
   "execution_count": null,
   "id": "60eb2b4f-bdf5-45a3-9cce-3036d8d76519",
   "metadata": {},
   "outputs": [],
   "source": [
    "class Discriminator(nn.module):\n",
    "    def __init__(self, feature_map_dim, channels):\n",
    "        super(Discriminator, self).__init__()\n",
    "        self.conv_1 = nn.Conv2d(channels, feature_map_dim*2,4,2,1,bias=false"
   ]
  }
 ],
 "metadata": {
  "kernelspec": {
   "display_name": "Python 3 (ipykernel)",
   "language": "python",
   "name": "python3"
  },
  "language_info": {
   "codemirror_mode": {
    "name": "ipython",
    "version": 3
   },
   "file_extension": ".py",
   "mimetype": "text/x-python",
   "name": "python",
   "nbconvert_exporter": "python",
   "pygments_lexer": "ipython3",
   "version": "3.12.2"
  }
 },
 "nbformat": 4,
 "nbformat_minor": 5
}
