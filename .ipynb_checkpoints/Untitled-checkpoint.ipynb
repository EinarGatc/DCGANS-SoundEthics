{
 "cells": [
  {
   "cell_type": "code",
   "execution_count": null,
   "id": "ac3a47bc-ddba-489d-bb16-bd358b3fa6bc",
   "metadata": {},
   "outputs": [],
   "source": [
    "import torch\n",
    "from torch import nn\n",
    "import torch.optim as optim\n",
    "from torch.utils.data import DataLoader\n",
    "from torchvision import transformers\n",
    "from torchvision.datasets import ImageFolder\n",
    "import torchvision.utils as vutils\n",
    "\n",
    "import mathplotlib.pyplot as plt\n",
    "import random\n",
    "import numpy as numpy\n",
    "import timeit\n",
    "\n",
    "from tqdm import tqdm"
   ]
  }
 ],
 "metadata": {
  "kernelspec": {
   "display_name": "Python 3 (ipykernel)",
   "language": "python",
   "name": "python3"
  },
  "language_info": {
   "codemirror_mode": {
    "name": "ipython",
    "version": 3
   },
   "file_extension": ".py",
   "mimetype": "text/x-python",
   "name": "python",
   "nbconvert_exporter": "python",
   "pygments_lexer": "ipython3",
   "version": "3.12.2"
  }
 },
 "nbformat": 4,
 "nbformat_minor": 5
}
