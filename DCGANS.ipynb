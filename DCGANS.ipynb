{
 "cells": [
  {
   "cell_type": "code",
   "execution_count": 7,
   "id": "ac3a47bc-ddba-489d-bb16-bd358b3fa6bc",
   "metadata": {},
   "outputs": [],
   "source": [
    "import torch\n",
    "import os\n",
    "from torch import nn\n",
    "import torch.optim as optim\n",
    "from torch.utils.data import Dataset, DataLoader\n",
    "from torchvision import transforms\n",
    "from torchvision.datasets import ImageFolder\n",
    "import torchvision.utils as vutils\n",
    "import random\n",
    "import matplotlib.pyplot as plt\n",
    "import random\n",
    "import numpy as np\n",
    "import timeit\n",
    "\n",
    "from tqdm import tqdm"
   ]
  },
  {
   "cell_type": "code",
   "execution_count": 8,
   "id": "80b01f42-e7fe-4d4f-84c7-5f41b5af2a57",
   "metadata": {},
   "outputs": [],
   "source": [
    "DATA_DIR = \"\"\n",
    "BATCH_SIZE = 1024\n",
    "IMG_SIZE = 64\n",
    "CHANNELS = 1\n",
    "INPUT_VECTOR_DIM = 100\n",
    "FEATURE_MAP_DIM = 64\n",
    "LR = 2e-4\n",
    "BETA1 = 0.5\n",
    "EPOCHS = 2\n",
    "RANDOM_SEED = 42\n",
    "\n",
    "random.seed(RANDOM_SEED)\n",
    "np.random.seed(RANDOM_SEED)\n",
    "torch.manual_seed(RANDOM_SEED)\n",
    "torch.cuda.manual_seed(RANDOM_SEED)\n",
    "torch.cuda.manual_seed_all(RANDOM_SEED)\n",
    "torch.backends.cudnn.deterministic = True\n",
    "torch.backends.cudnn.benchmark = False\n",
    "\n",
    "device = \"cuda\" if torch.cuda.is_available() else \"cpu\"\n"
   ]
  },
  {
   "cell_type": "code",
   "execution_count": 9,
   "id": "60eb2b4f-bdf5-45a3-9cce-3036d8d76519",
   "metadata": {},
   "outputs": [],
   "source": [
    "class Discriminator(nn.Module):\n",
    "    def __init__(self, feature_map_dim, channels):\n",
    "        super(Discriminator, self).__init__()\n",
    "        self.conv_1 = nn.Conv2d(channels, feature_map_dim*2,4,2,1,bias=False)\n",
    "        self.conv_2 = nn.Conv2d(feature_map_dim*2, feature_map_dim*4,4,2,1,bias=False)\n",
    "        self.conv_3 = nn.Conv2d(feature_map_dim*4, feature_map_dim*8,4,2,1,bias=False)\n",
    "        self.conv_4 = nn.Conv2d(feature_map_dim*8, feature_map_dim*16,4,2,1,bias=False)\n",
    "        self.conv_5 = nn.Conv2d(feature_map_dim*16, feature_map_dim*32,4,2,1,bias=False)\n",
    "        \n",
    "        self.conv_6 = nn.Conv2d(feature_map_dim*32, 1, 4, 1, 0,bias=False)\n",
    "\n",
    "        self.leaky_relu = nn.LeakyReLU(0.2)\n",
    "        self.batch_norm_1 = nn.BatchNorm2d(feature_map_dim*4)\n",
    "        self.batch_norm_2 = nn.BatchNorm2d(feature_map_dim*8)\n",
    "        self.batch_norm_3 = nn.BatchNorm2d(feature_map_dim*16)\n",
    "        self.batch_norm_4 = nn.BatchNorm2d(feature_map_dim*32)\n",
    "\n",
    "        self.sigmoid = nn.Sigmoid()\n",
    "    \n",
    "    def forward(self,inp):\n",
    "        x = self.conv_1(inp)\n",
    "        x = self.leaky_relu(x)\n",
    "\n",
    "        x = self.conv_2(x)\n",
    "        x = self.batch_norm_1(x)\n",
    "        x = self.leaky_relu(x)\n",
    "\n",
    "        x = self.conv_3(x)\n",
    "        x = self.batch_norm_2(x)\n",
    "        x = self.leaky_relu(x)\n",
    "        \n",
    "        x = self.conv_4(x)\n",
    "        x = self.batch_norm_3(x)\n",
    "        x = self.leaky_relu(x)\n",
    "\n",
    "        x = self.conv_5(x)\n",
    "        x = self.batch_norm_4(x)\n",
    "        x = self.leaky_relu(x)\n",
    "\n",
    "        x = self.conv_6(x)\n",
    "        x = torch.mean(x, dim=3, keepdim=True)\n",
    "        out = self.sigmoid(x)\n",
    "\n",
    "        return out"
   ]
  },
  {
   "cell_type": "code",
   "execution_count": 10,
   "id": "2dba499a",
   "metadata": {},
   "outputs": [
    {
     "name": "stdout",
     "output_type": "stream",
     "text": [
      "torch.Size([10, 1, 128, 896])\n",
      "torch.Size([10, 1, 1, 1])\n"
     ]
    }
   ],
   "source": [
    "discriminator = Discriminator(64,1).to(device)\n",
    "\n",
    "x = torch.randn(10, 1, 128, 896).to(device)\n",
    "print(x.shape)\n",
    "dis_out = discriminator.forward(x)\n",
    "print(dis_out.size())"
   ]
  },
  {
   "cell_type": "code",
   "execution_count": 11,
   "id": "7185317f",
   "metadata": {},
   "outputs": [],
   "source": [
    "class Generator(nn.Module):\n",
    "    def __init__(self, input_vector_dim, feature_map_dim, channels):\n",
    "        super(Generator, self).__init__()\n",
    "        self.conv_1 = nn.ConvTranspose2d(input_vector_dim, feature_map_dim*32, (4,28), 1, 0, bias=False)\n",
    "        \n",
    "        # Progression of upsampling layers\n",
    "        self.conv_2 = nn.ConvTranspose2d(feature_map_dim*32, feature_map_dim*16, 4, 2, 1, bias=False)\n",
    "        self.conv_3 = nn.ConvTranspose2d(feature_map_dim*16, feature_map_dim*8, 4, 2, 1, bias=False)\n",
    "        self.conv_4 = nn.ConvTranspose2d(feature_map_dim*8, feature_map_dim*4, 4, 2, 1, bias=False)\n",
    "        self.conv_5 = nn.ConvTranspose2d(feature_map_dim*4, feature_map_dim*2, 4, 2, 1, bias=False)\n",
    "        self.conv_6 = nn.ConvTranspose2d(feature_map_dim*2, channels, 4, 2, 1, bias=False)\n",
    "\n",
    "        self.relu = nn.ReLU()\n",
    "        self.batch_norm_1 = nn.BatchNorm2d(feature_map_dim*32)\n",
    "        self.batch_norm_2 = nn.BatchNorm2d(feature_map_dim*16)\n",
    "        self.batch_norm_3 = nn.BatchNorm2d(feature_map_dim*8)\n",
    "        self.batch_norm_4 = nn.BatchNorm2d(feature_map_dim*4)\n",
    "        self.batch_norm_5 = nn.BatchNorm2d(feature_map_dim*2)\n",
    "\n",
    "        self.tanh = nn.Tanh()\n",
    "    \n",
    "    def forward(self,inp):\n",
    "        # Input shape: [batch_size, input_vector_dim, 1, 1]\n",
    "        x = self.conv_1(inp)       \n",
    "        x = self.batch_norm_1(x)\n",
    "        x = self.relu(x)\n",
    "        \n",
    "        x = self.conv_2(x)         \n",
    "        x = self.batch_norm_2(x)\n",
    "        x = self.relu(x)\n",
    "        \n",
    "        x = self.conv_3(x)          \n",
    "        x = self.batch_norm_3(x)\n",
    "        x = self.relu(x)\n",
    "        \n",
    "        x = self.conv_4(x)          \n",
    "        x = self.batch_norm_4(x)\n",
    "        x = self.relu(x)\n",
    "        \n",
    "        x = self.conv_5(x)          \n",
    "        x = self.batch_norm_5(x)\n",
    "        x = self.relu(x)\n",
    "        \n",
    "        x = self.conv_6(x)         \n",
    "        out = self.tanh(x)\n",
    "        \n",
    "        return out"
   ]
  },
  {
   "cell_type": "code",
   "execution_count": 12,
   "id": "e0eb01b0",
   "metadata": {},
   "outputs": [
    {
     "name": "stdout",
     "output_type": "stream",
     "text": [
      "torch.Size([10, 1, 128, 896])\n"
     ]
    }
   ],
   "source": [
    "generator = Generator(INPUT_VECTOR_DIM, FEATURE_MAP_DIM, CHANNELS).to(device)\n",
    "\n",
    "noise = torch.randn(10, 100, 1, 1, device=device)\n",
    "gen_out = generator.forward(noise)\n",
    "\n",
    "print(gen_out.size())"
   ]
  },
  {
   "cell_type": "code",
   "execution_count": 35,
   "id": "2d1a8168",
   "metadata": {},
   "outputs": [],
   "source": [
    "def load_dataset(directory_path, target_shape=(128,896), limit = None):\n",
    "    all_files = os.listdir(directory_path)\n",
    "    # Filter out the files ending with .npz and get their full paths\n",
    "    npz_files = [os.path.join(directory_path, file) for file in all_files if file.endswith('.npz')]\n",
    "\n",
    "    # List to accumulate data (for example, spectrogram data)\n",
    "    accumulated_data = []\n",
    "    types = set([])\n",
    "    for i, file in enumerate(npz_files):\n",
    "        if limit and i == limit:\n",
    "            break \n",
    "        data = np.load(file)\n",
    "\n",
    "        if 'spectrogram' in data:\n",
    "            spec = data['spectrogram']\n",
    "            h, w = spec.shape[0], spec.shape[1]\n",
    "            min_h, min_w = min(target_shape[0], h), min(target_shape[1], w)\n",
    "            \n",
    "            \n",
    "            new_spec = np.zeros(target_shape)\n",
    "            new_spec[:min_h, :min_w] = spec[:min_h, :min_w] \n",
    "            accumulated_data.append(torch.from_numpy(np.expand_dims(new_spec, axis=0)).float())\n",
    "            \n",
    "    return np.array(accumulated_data)"
   ]
  },
  {
   "cell_type": "code",
   "execution_count": 36,
   "id": "139e970d",
   "metadata": {},
   "outputs": [],
   "source": [
    "fake_path_training = r\"/Users/egatchal/Downloads/home/tianaz/audio_spectrograms/training/fake\"\n",
    "real_path_training = r\"/Users/egatchal/Downloads/home/tianaz/audio_spectrograms/training/real\"\n",
    "\n",
    "fake_dataset = load_dataset(fake_path_training, limit=2000)\n",
    "real_dataset = load_dataset(real_path_training)"
   ]
  },
  {
   "cell_type": "code",
   "execution_count": null,
   "id": "3b8e926f",
   "metadata": {},
   "outputs": [],
   "source": [
    "real_labels = torch.ones(real_dataset.shape[0])\n",
    "fake_labels = torch.zeros(fake_dataset.shape[0])\n",
    "all_spectrograms = np.concatenate([fake_dataset, real_dataset], axis=0)\n",
    "all_labels = np.concatenate([fake_labels, real_labels], axis=0)\n",
    "all_labels = real_labels\n",
    "combined = list(zip(all_spectrograms, all_labels))\n",
    "combined = list(zip(real_dataset, real_labels))"
   ]
  },
  {
   "cell_type": "code",
   "execution_count": 38,
   "id": "742a6c38",
   "metadata": {},
   "outputs": [
    {
     "name": "stdout",
     "output_type": "stream",
     "text": [
      "(14863, 1, 128, 896)\n",
      "(2000, 1, 128, 896)\n",
      "(16863, 1, 128, 896)\n",
      "float32\n"
     ]
    }
   ],
   "source": [
    "print(real_dataset.shape)\n",
    "print(fake_dataset.shape)\n",
    "print(all_spectrograms.shape)\n",
    "print(all_labels.dtype)"
   ]
  },
  {
   "cell_type": "code",
   "execution_count": 31,
   "id": "f3c68883",
   "metadata": {},
   "outputs": [],
   "source": [
    "DATA_DIR = \"\"\n",
    "BATCH_SIZE = 1024\n",
    "IMG_SIZE = 64\n",
    "CHANNELS = 1\n",
    "INPUT_VECTOR_DIM = 25\n",
    "FEATURE_MAP_DIM = 64\n",
    "LR = 2e-4\n",
    "BETA1 = 0.5\n",
    "EPOCHS = 2\n",
    "RANDOM_SEED = 42\n",
    "\n",
    "dataloader = DataLoader(\n",
    "    combined, \n",
    "    batch_size=BATCH_SIZE,          # Number of samples in each batch\n",
    "    shuffle=True,           # Shuffle the data for each epoch\n",
    "    num_workers=4           # Optional: number of subprocesses to use for data loading\n",
    ")"
   ]
  },
  {
   "cell_type": "code",
   "execution_count": 32,
   "id": "c8e48a1b",
   "metadata": {},
   "outputs": [
    {
     "name": "stdout",
     "output_type": "stream",
     "text": [
      "{(1, 128, 896): 2000}\n",
      "{(1, 128, 896): 100}\n"
     ]
    }
   ],
   "source": [
    "d = {}\n",
    "for data in fake_dataset:\n",
    "    k = data.shape\n",
    "    if k not in d:\n",
    "        d[k] = 0\n",
    "    d[k] += 1\n",
    "print(d)\n",
    "\n",
    "d = {}\n",
    "for data in real_dataset:\n",
    "    k = data.shape\n",
    "    if k not in d:\n",
    "        d[k] = 0\n",
    "    d[k] += 1\n",
    "print(d)"
   ]
  },
  {
   "cell_type": "code",
   "execution_count": 33,
   "id": "c3b98b03",
   "metadata": {},
   "outputs": [],
   "source": [
    "discriminator = Discriminator(FEATURE_MAP_DIM, CHANNELS).to(device)\n",
    "generator = Generator(INPUT_VECTOR_DIM, FEATURE_MAP_DIM, CHANNELS).to(device)"
   ]
  },
  {
   "cell_type": "code",
   "execution_count": 34,
   "id": "1243e155",
   "metadata": {},
   "outputs": [
    {
     "name": "stderr",
     "output_type": "stream",
     "text": [
      "  0%|          | 0/2 [00:00<?, ?it/s]libc++abi: terminating due to uncaught exception of type std::__1::system_error: Broken pipe\n",
      "libc++abi: terminating due to uncaught exception of type std::__1::system_error: Broken pipe\n",
      "libc++abi: terminating due to uncaught exception of type std::__1::system_error: Broken pipe\n",
      "libc++abi: terminating due to uncaught exception of type std::__1::system_error: Broken pipe\n",
      "Exception ignored in: <function _MultiProcessingDataLoaderIter.__del__ at 0x10ed909a0>\n",
      "Traceback (most recent call last):\n",
      "  File \"/opt/miniconda3/envs/DCGANS/lib/python3.12/site-packages/torch/utils/data/dataloader.py\", line 1617, in __del__\n",
      "    def __del__(self):\n",
      "\n",
      "  File \"/opt/miniconda3/envs/DCGANS/lib/python3.12/site-packages/torch/utils/data/_utils/signal_handling.py\", line 73, in handler\n",
      "    _error_if_any_worker_fails()\n",
      "RuntimeError: DataLoader worker (pid 45851) is killed by signal: Abort trap: 6. \n",
      "  0%|          | 0/2 [01:04<?, ?it/s]\n"
     ]
    },
    {
     "ename": "KeyboardInterrupt",
     "evalue": "",
     "output_type": "error",
     "traceback": [
      "\u001b[31m---------------------------------------------------------------------------\u001b[39m",
      "\u001b[31mKeyboardInterrupt\u001b[39m                         Traceback (most recent call last)",
      "\u001b[36mCell\u001b[39m\u001b[36m \u001b[39m\u001b[32mIn[34]\u001b[39m\u001b[32m, line 31\u001b[39m\n\u001b[32m     29\u001b[39m discriminator_fake_out = discriminator(generator_fake_out.detach()).view(-\u001b[32m1\u001b[39m)\n\u001b[32m     30\u001b[39m discriminator_fake_loss = criterion(discriminator_fake_out, fake_labels)\n\u001b[32m---> \u001b[39m\u001b[32m31\u001b[39m \u001b[43mdiscriminator_fake_loss\u001b[49m\u001b[43m.\u001b[49m\u001b[43mbackward\u001b[49m\u001b[43m(\u001b[49m\u001b[43m)\u001b[49m\n\u001b[32m     32\u001b[39m discriminator_running_loss += discriminator_real_loss.item() + discriminator_fake_loss.item()\n\u001b[32m     33\u001b[39m discriminator_optimizer.step()\n",
      "\u001b[36mFile \u001b[39m\u001b[32m/opt/miniconda3/envs/DCGANS/lib/python3.12/site-packages/torch/_tensor.py:626\u001b[39m, in \u001b[36mTensor.backward\u001b[39m\u001b[34m(self, gradient, retain_graph, create_graph, inputs)\u001b[39m\n\u001b[32m    616\u001b[39m \u001b[38;5;28;01mif\u001b[39;00m has_torch_function_unary(\u001b[38;5;28mself\u001b[39m):\n\u001b[32m    617\u001b[39m     \u001b[38;5;28;01mreturn\u001b[39;00m handle_torch_function(\n\u001b[32m    618\u001b[39m         Tensor.backward,\n\u001b[32m    619\u001b[39m         (\u001b[38;5;28mself\u001b[39m,),\n\u001b[32m   (...)\u001b[39m\u001b[32m    624\u001b[39m         inputs=inputs,\n\u001b[32m    625\u001b[39m     )\n\u001b[32m--> \u001b[39m\u001b[32m626\u001b[39m \u001b[43mtorch\u001b[49m\u001b[43m.\u001b[49m\u001b[43mautograd\u001b[49m\u001b[43m.\u001b[49m\u001b[43mbackward\u001b[49m\u001b[43m(\u001b[49m\n\u001b[32m    627\u001b[39m \u001b[43m    \u001b[49m\u001b[38;5;28;43mself\u001b[39;49m\u001b[43m,\u001b[49m\u001b[43m \u001b[49m\u001b[43mgradient\u001b[49m\u001b[43m,\u001b[49m\u001b[43m \u001b[49m\u001b[43mretain_graph\u001b[49m\u001b[43m,\u001b[49m\u001b[43m \u001b[49m\u001b[43mcreate_graph\u001b[49m\u001b[43m,\u001b[49m\u001b[43m \u001b[49m\u001b[43minputs\u001b[49m\u001b[43m=\u001b[49m\u001b[43minputs\u001b[49m\n\u001b[32m    628\u001b[39m \u001b[43m\u001b[49m\u001b[43m)\u001b[49m\n",
      "\u001b[36mFile \u001b[39m\u001b[32m/opt/miniconda3/envs/DCGANS/lib/python3.12/site-packages/torch/autograd/__init__.py:347\u001b[39m, in \u001b[36mbackward\u001b[39m\u001b[34m(tensors, grad_tensors, retain_graph, create_graph, grad_variables, inputs)\u001b[39m\n\u001b[32m    342\u001b[39m     retain_graph = create_graph\n\u001b[32m    344\u001b[39m \u001b[38;5;66;03m# The reason we repeat the same comment below is that\u001b[39;00m\n\u001b[32m    345\u001b[39m \u001b[38;5;66;03m# some Python versions print out the first line of a multi-line function\u001b[39;00m\n\u001b[32m    346\u001b[39m \u001b[38;5;66;03m# calls in the traceback and some print out the last line\u001b[39;00m\n\u001b[32m--> \u001b[39m\u001b[32m347\u001b[39m \u001b[43m_engine_run_backward\u001b[49m\u001b[43m(\u001b[49m\n\u001b[32m    348\u001b[39m \u001b[43m    \u001b[49m\u001b[43mtensors\u001b[49m\u001b[43m,\u001b[49m\n\u001b[32m    349\u001b[39m \u001b[43m    \u001b[49m\u001b[43mgrad_tensors_\u001b[49m\u001b[43m,\u001b[49m\n\u001b[32m    350\u001b[39m \u001b[43m    \u001b[49m\u001b[43mretain_graph\u001b[49m\u001b[43m,\u001b[49m\n\u001b[32m    351\u001b[39m \u001b[43m    \u001b[49m\u001b[43mcreate_graph\u001b[49m\u001b[43m,\u001b[49m\n\u001b[32m    352\u001b[39m \u001b[43m    \u001b[49m\u001b[43minputs\u001b[49m\u001b[43m,\u001b[49m\n\u001b[32m    353\u001b[39m \u001b[43m    \u001b[49m\u001b[43mallow_unreachable\u001b[49m\u001b[43m=\u001b[49m\u001b[38;5;28;43;01mTrue\u001b[39;49;00m\u001b[43m,\u001b[49m\n\u001b[32m    354\u001b[39m \u001b[43m    \u001b[49m\u001b[43maccumulate_grad\u001b[49m\u001b[43m=\u001b[49m\u001b[38;5;28;43;01mTrue\u001b[39;49;00m\u001b[43m,\u001b[49m\n\u001b[32m    355\u001b[39m \u001b[43m\u001b[49m\u001b[43m)\u001b[49m\n",
      "\u001b[36mFile \u001b[39m\u001b[32m/opt/miniconda3/envs/DCGANS/lib/python3.12/site-packages/torch/autograd/graph.py:823\u001b[39m, in \u001b[36m_engine_run_backward\u001b[39m\u001b[34m(t_outputs, *args, **kwargs)\u001b[39m\n\u001b[32m    821\u001b[39m     unregister_hooks = _register_logging_hooks_on_whole_graph(t_outputs)\n\u001b[32m    822\u001b[39m \u001b[38;5;28;01mtry\u001b[39;00m:\n\u001b[32m--> \u001b[39m\u001b[32m823\u001b[39m     \u001b[38;5;28;01mreturn\u001b[39;00m \u001b[43mVariable\u001b[49m\u001b[43m.\u001b[49m\u001b[43m_execution_engine\u001b[49m\u001b[43m.\u001b[49m\u001b[43mrun_backward\u001b[49m\u001b[43m(\u001b[49m\u001b[43m  \u001b[49m\u001b[38;5;66;43;03m# Calls into the C++ engine to run the backward pass\u001b[39;49;00m\n\u001b[32m    824\u001b[39m \u001b[43m        \u001b[49m\u001b[43mt_outputs\u001b[49m\u001b[43m,\u001b[49m\u001b[43m \u001b[49m\u001b[43m*\u001b[49m\u001b[43margs\u001b[49m\u001b[43m,\u001b[49m\u001b[43m \u001b[49m\u001b[43m*\u001b[49m\u001b[43m*\u001b[49m\u001b[43mkwargs\u001b[49m\n\u001b[32m    825\u001b[39m \u001b[43m    \u001b[49m\u001b[43m)\u001b[49m  \u001b[38;5;66;03m# Calls into the C++ engine to run the backward pass\u001b[39;00m\n\u001b[32m    826\u001b[39m \u001b[38;5;28;01mfinally\u001b[39;00m:\n\u001b[32m    827\u001b[39m     \u001b[38;5;28;01mif\u001b[39;00m attach_logging_hooks:\n",
      "\u001b[31mKeyboardInterrupt\u001b[39m: "
     ]
    }
   ],
   "source": [
    "criterion = nn.BCELoss()\n",
    "\n",
    "discriminator_optimizer = optim.Adam(discriminator.parameters(), lr=LR, betas=(BETA1, 0.999))\n",
    "generator_optimizer = optim.Adam(generator.parameters(), lr=LR, betas=(BETA1, 0.999))\n",
    "\n",
    "generator.train()\n",
    "discriminator.train()\n",
    "\n",
    "start = timeit.default_timer()\n",
    "\n",
    "for epoch in tqdm(range(EPOCHS), position=0, leave=True):\n",
    "    generator_running_loss = 0\n",
    "    discriminator_running_loss = 0\n",
    "    for idx, data in enumerate(dataloader):\n",
    "        img_data = data[0].to(device)\n",
    "        dummy_labels = data[1]\n",
    "\n",
    "        # real_labels = dummy_labels\n",
    "        real_labels = torch.full((dummy_labels.size()), 1.0, dtype=torch.float).to(device)\n",
    "        fake_labels = torch.full((dummy_labels.size()), 0., dtype=torch.float).to(device)\n",
    "        noise = torch.randn(dummy_labels.size()[0], INPUT_VECTOR_DIM, 1, 1).to(device)\n",
    "\n",
    "        discriminator_real_out = discriminator(img_data).view(-1)\n",
    "        discriminator_real_loss = criterion(discriminator_real_out, real_labels)\n",
    "        discriminator.zero_grad()\n",
    "        discriminator_real_loss.backward()\n",
    "\n",
    "        generator_fake_out = generator(noise)\n",
    "        discriminator_fake_out = discriminator(generator_fake_out.detach()).view(-1)\n",
    "        discriminator_fake_loss = criterion(discriminator_fake_out, fake_labels)\n",
    "        discriminator_fake_loss.backward()\n",
    "        discriminator_running_loss += discriminator_real_loss.item() + discriminator_fake_loss.item()\n",
    "        discriminator_optimizer.step()\n",
    "\n",
    "        discriminator_fake_out = discriminator(generator_fake_out).view(-1)\n",
    "        generator_loss = criterion(discriminator_fake_out, real_labels)\n",
    "        generator_running_loss += generator_loss.item()\n",
    "        generator.zero_grad()\n",
    "        generator_loss.backward()\n",
    "        generator_optimizer.step()\n",
    "\n",
    "    discriminator_loss = discriminator_running_loss / 2*(idx+1)\n",
    "    generator_loss = generator_running_loss / (idx+1)\n",
    "\n",
    "    print(f'Discriminator Loss EPOCH {epoch+1}: {discriminator_loss:.4f}')\n",
    "    print(f'Generator Loss EPOCH {epoch+1}: {generator_loss:.4f}')\n",
    "\n",
    "    plt.figure(figsize=(20,20))\n",
    "    plt.subplot(1,2,1)\n",
    "    plt.axis(\"off\")\n",
    "    plt.title(f\"Epoch {epoch+1} Generated Images\")\n",
    "    grid = vutils.make_grid(generator_fake_out[:9], padding=5, normalize=True, nrow=3).cpu()\n",
    "\n",
    "    plt.imshow(grid[0], cmap=\"rainbow\")\n",
    "    plt.show()\n",
    "\n",
    "stop = timeit.default_timer() \n",
    "print(f\"Training Time: {stop-start:.2f}s\")"
   ]
  },
  {
   "cell_type": "code",
   "execution_count": null,
   "id": "b1f12b99",
   "metadata": {},
   "outputs": [],
   "source": [
    "torch.cuda.empty_cache()"
   ]
  }
 ],
 "metadata": {
  "kernelspec": {
   "display_name": "DCGANS",
   "language": "python",
   "name": "python3"
  },
  "language_info": {
   "codemirror_mode": {
    "name": "ipython",
    "version": 3
   },
   "file_extension": ".py",
   "mimetype": "text/x-python",
   "name": "python",
   "nbconvert_exporter": "python",
   "pygments_lexer": "ipython3",
   "version": "3.12.9"
  }
 },
 "nbformat": 4,
 "nbformat_minor": 5
}
