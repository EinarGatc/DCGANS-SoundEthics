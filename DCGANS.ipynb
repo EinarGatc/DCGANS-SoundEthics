{
 "cells": [
  {
   "cell_type": "code",
   "execution_count": 5,
   "id": "ac3a47bc-ddba-489d-bb16-bd358b3fa6bc",
   "metadata": {},
   "outputs": [],
   "source": [
    "import torch\n",
    "from torch import nn\n",
    "import torch.optim as optim\n",
    "from torch.utils.data import DataLoader\n",
    "from torchvision import transforms\n",
    "from torchvision.datasets import ImageFolder\n",
    "import torchvision.utils as vutils\n",
    "\n",
    "import matplotlib.pyplot as plt\n",
    "import random\n",
    "import numpy as np\n",
    "import timeit\n",
    "\n",
    "from tqdm import tqdm"
   ]
  },
  {
   "cell_type": "code",
   "execution_count": 6,
   "id": "80b01f42-e7fe-4d4f-84c7-5f41b5af2a57",
   "metadata": {},
   "outputs": [],
   "source": [
    "DATA_DIR = \"\"\n",
    "BATCH_SIZE = 1024\n",
    "IMG_SIZE = 64\n",
    "CHANNELS = 3\n",
    "INPUT_VECTOR_DIM = 100\n",
    "FEATURE_MAP_DIM = 64\n",
    "LR = 2e-4\n",
    "BETA1 = 0.5\n",
    "EPOCHS = 2\n",
    "RANDOM_SEED = 42\n",
    "\n",
    "random.seed(RANDOM_SEED)\n",
    "np.random.seed(RANDOM_SEED)\n",
    "torch.manual_seed(RANDOM_SEED)\n",
    "torch.cuda.manual_seed(RANDOM_SEED)\n",
    "torch.cuda.manual_seed_all(RANDOM_SEED)\n",
    "torch.backends.cudnn.deterministic = True\n",
    "torch.backends.cudnn.benchmark = False\n",
    "\n",
    "device = \"cuda\" if torch.cuda.is_available() else \"cpu\"\n"
   ]
  },
  {
   "cell_type": "code",
   "execution_count": 14,
   "id": "60eb2b4f-bdf5-45a3-9cce-3036d8d76519",
   "metadata": {},
   "outputs": [],
   "source": [
    "class Discriminator(nn.Module):\n",
    "    def __init__(self, feature_map_dim, channels):\n",
    "        super(Discriminator, self).__init__()\n",
    "        self.conv_1 = nn.Conv2d(channels, feature_map_dim*2,4,2,1,bias=False)\n",
    "        self.conv_2 = nn.Conv2d(feature_map_dim*2, feature_map_dim*4,4,2,1,bias=False)\n",
    "        self.conv_3 = nn.Conv2d(feature_map_dim*4, feature_map_dim*8,4,2,1,bias=False)\n",
    "        self.conv_4 = nn.Conv2d(feature_map_dim*8, feature_map_dim*16,4,2,1,bias=False)\n",
    "        self.conv_5 = nn.Conv2d(feature_map_dim*16, 1, 4, 1, 0,bias=False)\n",
    "\n",
    "        self.leaky_relu = nn.LeakyReLU(0.2)\n",
    "        self.batch_norm_1 = nn.BatchNorm2d(feature_map_dim*4)\n",
    "        self.batch_norm_2 = nn.BatchNorm2d(feature_map_dim*8)\n",
    "        self.batch_norm_3 = nn.BatchNorm2d(feature_map_dim*16)\n",
    "\n",
    "        self.sigmoid = nn.Sigmoid()\n",
    "    \n",
    "    def forward(self,inp):\n",
    "        x = self.conv_1(inp)\n",
    "        x = self.leaky_relu(x)\n",
    "\n",
    "        x = self.conv_2(x)\n",
    "        x = self.batch_norm_1(x)\n",
    "        x = self.leaky_relu(x)\n",
    "\n",
    "        x = self.conv_3(x)\n",
    "        x = self.batch_norm_2(x)\n",
    "        x = self.leaky_relu(x)\n",
    "        \n",
    "        x = self.conv_4(x)\n",
    "        x = self.batch_norm_3(x)\n",
    "        x = self.leaky_relu(x)\n",
    "\n",
    "        x = self.conv_5(x)\n",
    "        out = self.sigmoid(x)\n",
    "\n",
    "        return out"
   ]
  },
  {
   "cell_type": "code",
   "execution_count": 17,
   "id": "2dba499a",
   "metadata": {},
   "outputs": [
    {
     "name": "stdout",
     "output_type": "stream",
     "text": [
      "torch.Size([1024, 1, 1, 1])\n"
     ]
    }
   ],
   "source": [
    "discriminator = Discriminator(FEATURE_MAP_DIM,CHANNELS).to(device)\n",
    "\n",
    "x = torch.randn(BATCH_SIZE, CHANNELS, IMG_SIZE, IMG_SIZE).to(device)\n",
    "dis_out = discriminator.forward(x)\n",
    "print(dis_out.size())"
   ]
  },
  {
   "cell_type": "code",
   "execution_count": 29,
   "id": "7185317f",
   "metadata": {},
   "outputs": [],
   "source": [
    "class Generator(nn.Module):\n",
    "    def __init__(self, input_vector_dim, feature_map_dim, channels):\n",
    "        super(Generator, self).__init__()\n",
    "        print(input_vector_dim, feature_map_dim)\n",
    "        self.conv_1 = nn.ConvTranspose2d(input_vector_dim, feature_map_dim*16, 4, 1, 0, bias=False)\n",
    "        self.conv_2 = nn.ConvTranspose2d(feature_map_dim*16, feature_map_dim*8, 4, 2, 1, bias=False)\n",
    "        self.conv_3 = nn.ConvTranspose2d(feature_map_dim*8, feature_map_dim*4, 4, 2, 1, bias=False)\n",
    "        self.conv_4 = nn.ConvTranspose2d(feature_map_dim*4, feature_map_dim*2, 4, 2, 1, bias=False)\n",
    "        self.conv_5 = nn.ConvTranspose2d(feature_map_dim*2, channels, 4, 2, 1, bias=False)\n",
    "\n",
    "        self.relu = nn.ReLU()\n",
    "\n",
    "        self.batch_norm_1 = nn.BatchNorm2d(feature_map_dim*16)\n",
    "        self.batch_norm_2 = nn.BatchNorm2d(feature_map_dim*8)\n",
    "        self.batch_norm_3 = nn.BatchNorm2d(feature_map_dim*4)\n",
    "        self.batch_norm_4 = nn.BatchNorm2d(feature_map_dim*2)\n",
    "\n",
    "\n",
    "        self.tanh = nn.Tanh()\n",
    "    \n",
    "    def forward(self,inp):\n",
    "        x = self.conv_1(inp)\n",
    "        x = self.batch_norm_1(x)\n",
    "        x = self.relu(x)\n",
    "\n",
    "        x = self.conv_2(x)\n",
    "        x = self.batch_norm_2(x)\n",
    "        x = self.relu(x)\n",
    "\n",
    "        x = self.conv_3(x)\n",
    "        x = self.batch_norm_3(x)\n",
    "        x = self.relu(x)\n",
    "        \n",
    "        x = self.conv_4(x)\n",
    "        x = self.batch_norm_4(x)\n",
    "        x = self.relu(x)\n",
    "\n",
    "        x = self.conv_5(x)\n",
    "        out = self.tanh(x)\n",
    "\n",
    "        return out"
   ]
  },
  {
   "cell_type": "code",
   "execution_count": 31,
   "id": "e0eb01b0",
   "metadata": {},
   "outputs": [
    {
     "name": "stdout",
     "output_type": "stream",
     "text": [
      "100 64\n",
      "torch.Size([1024, 3, 64, 64])\n"
     ]
    }
   ],
   "source": [
    "generator = Generator(INPUT_VECTOR_DIM, FEATURE_MAP_DIM, CHANNELS).to(device)\n",
    "\n",
    "noise = torch.randn(BATCH_SIZE, INPUT_VECTOR_DIM, 1, 1, device=device)\n",
    "gen_out = generator.forward(noise)\n",
    "\n",
    "print(gen_out.size())"
   ]
  },
  {
   "cell_type": "code",
   "execution_count": null,
   "id": "1243e155",
   "metadata": {},
   "outputs": [],
   "source": [
    "criterion = nn.BCELoss()\n",
    "\n",
    "discriminator_optimizer = optim.Adam(discriminator.parameters(), lr=LR, betas=(BETA1, 0.999))\n",
    "generator_optimizer = optim.Adam(generator.parameters(), lr=LR, betas=(BETA1, 0.999))\n",
    "\n",
    "generator.train()\n",
    "discriminator.train()\n",
    "\n",
    "start = timeit.default_timer()\n",
    "\n",
    "for epoch in tqdm(range(EPOCHS), position=0, leave=True):\n",
    "    generator_running_loss = 0\n",
    "    discriminator_running_loss = 0\n",
    "    for idx, data in enumerate(tqdm(dataloader, position=0, leave=True)):\n",
    "        img_data = data[0].to(device)\n",
    "        dummy_labels = data[1]\n",
    "\n",
    "        real_labels = torch.full((dummy_labels.size()), 1., dtype=torch.float).to(device)\n",
    "        fake_labels = torch.full((dummy_labels.size()), 0., dtype=torch.float).to(device)\n",
    "        noise = torch.randn(dummy_labels.size()[0], INPUT_VECTOR_DIM, 1, 1).to(device)\n",
    "\n",
    "        discriminator_real_out = discriminator(img_data).view(-1)\n",
    "        discriminator_real_loss = criterion(discriminator_real_out, real_labels)\n",
    "        discriminator.zero_grad()\n",
    "        discriminator_real_loss.backward()\n",
    "\n",
    "        generator_fake_out = generator(noise)\n",
    "        discriminator_fake_out = discriminator(generator_fake_out.detach()).view(-1)\n",
    "        discriminator_fake_loss = criterion(discriminator_fake_out, fake_labels)\n",
    "        discriminator_fake_loss.backward()\n",
    "        discriminator_running_loss += discriminator_real_loss.item() + discriminator_fake_loss.item()\n",
    "        discriminator_optimizer.step()\n",
    "\n",
    "        discriminator_fake_out = discriminator(generator_fake_out).view(-1)\n",
    "        generator_loss = criterion(discriminator_fake_out, real_labels)\n",
    "        generator_running_loss += generator_loss.item()\n",
    "        generator.zero_grad()\n",
    "        generator_loss.backward()\n",
    "        generator_optimizer.step()\n",
    "\n",
    "    discriminator_loss = discriminator_running_loss / 2*(idx+1)\n",
    "    generator_loss = generator_running_loss / (idx+1)"
   ]
  }
 ],
 "metadata": {
  "kernelspec": {
   "display_name": "DCGANS",
   "language": "python",
   "name": "python3"
  },
  "language_info": {
   "codemirror_mode": {
    "name": "ipython",
    "version": 3
   },
   "file_extension": ".py",
   "mimetype": "text/x-python",
   "name": "python",
   "nbconvert_exporter": "python",
   "pygments_lexer": "ipython3",
   "version": "3.12.9"
  }
 },
 "nbformat": 4,
 "nbformat_minor": 5
}
